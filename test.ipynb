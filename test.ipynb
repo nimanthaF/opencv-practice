{
 "metadata": {
  "language_info": {
   "codemirror_mode": {
    "name": "ipython",
    "version": 3
   },
   "file_extension": ".py",
   "mimetype": "text/x-python",
   "name": "python",
   "nbconvert_exporter": "python",
   "pygments_lexer": "ipython3",
   "version": "3.7.4-final"
  },
  "orig_nbformat": 2,
  "kernelspec": {
   "name": "python3",
   "display_name": "Python 3.7.4 64-bit (conda)",
   "metadata": {
    "interpreter": {
     "hash": "9d3bae0a0f66551680ef8a166f6b92cc2774d5d7901f027deb7bb883ed06d5ae"
    }
   }
  }
 },
 "nbformat": 4,
 "nbformat_minor": 2,
 "cells": [
  {
   "cell_type": "code",
   "execution_count": 3,
   "metadata": {},
   "outputs": [
    {
     "output_type": "execute_result",
     "data": {
      "text/plain": [
       "-1"
      ]
     },
     "metadata": {},
     "execution_count": 3
    }
   ],
   "source": [
    "import cv2\n",
    "import numpy as np\n",
    "\n",
    "img=cv2.imread('lena.jpg')\n",
    "kernel=np.ones((5,5),np.uint8)   #defining a matrix of 5x5 (type of the object is uint8 which measn values can range from 0 to 255)\n",
    "\n",
    "imgGray=cv2.cvtColor(img,cv2.COLOR_BGR2GRAY)          #gray image\n",
    "imgBlur=cv2.GaussianBlur(imgGray,(7,7),0)  #adding the blur (need to add the kernel size which coould be a odd number)\n",
    "\n",
    "#adding the edge detector\n",
    "imgCanny=cv2.Canny(img,100,100)             #threshold values should be added based on your situation\n",
    "\n",
    "imgDilation=cv2.dilate(imgCanny,kernel,iterations=1)   #iterations value will be used to measure the thickness of the edge detected image\n",
    "\n",
    "imgEroded=cv2.erode(imgDilation,kernel,iterations=1)   #this is the opposite of the dilation\n",
    "\n",
    "cv2.imshow('Original',img)\n",
    "cv2.imshow('Gray image',imgGray)\n",
    "cv2.imshow('blur image',imgBlur)\n",
    "cv2.imshow('canny image',imgCanny) \n",
    "cv2.imshow('dilated image',imgDilation) \n",
    "cv2.imshow('eroded image',imgEroded) \n",
    "\n",
    "cv2.waitKey(0)"
   ]
  },
  {
   "cell_type": "code",
   "execution_count": 1,
   "metadata": {},
   "outputs": [
    {
     "output_type": "stream",
     "name": "stdout",
     "text": [
      "hello\n"
     ]
    }
   ],
   "source": [
    "import cv2\n",
    "\n",
    "cap=cv2.VideoCapture(0)             #capturing the video from the webcam\n",
    "cap.set(3,640)\n",
    "cap.set(4,480)\n",
    "cap.set(10,100)\n",
    "\n",
    "while True:\n",
    "    success, img=cap.read()                         #video will be played as frame \n",
    "    cv2.imshow(\"Video\",img)\n",
    "    if cv2.waitKey(0) & 0xFF ==ord('q'):            #'q' will be used to destroy the window\n",
    "        break\n",
    "\n"
   ]
  }
 ]
}