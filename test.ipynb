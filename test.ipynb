{
 "metadata": {
  "language_info": {
   "codemirror_mode": {
    "name": "ipython",
    "version": 3
   },
   "file_extension": ".py",
   "mimetype": "text/x-python",
   "name": "python",
   "nbconvert_exporter": "python",
   "pygments_lexer": "ipython3",
   "version": "3.7.4-final"
  },
  "orig_nbformat": 2,
  "kernelspec": {
   "name": "python3",
   "display_name": "Python 3.7.4 64-bit (conda)",
   "metadata": {
    "interpreter": {
     "hash": "9d3bae0a0f66551680ef8a166f6b92cc2774d5d7901f027deb7bb883ed06d5ae"
    }
   }
  }
 },
 "nbformat": 4,
 "nbformat_minor": 2,
 "cells": [
  {
   "cell_type": "code",
   "execution_count": null,
   "metadata": {},
   "outputs": [],
   "source": [
    "import cv2\n",
    "import numpy as np\n",
    "\n",
    "img=cv2.imread('lena.jpg')\n",
    "kernel=np.ones((5,5),np.uint8)   #defining a matrix of 5x5 (type of the object is uint8 which measn values can range from 0 to 255)\n",
    "\n",
    "imgGray=cv2.cvtColor(img,cv2.COLOR_BGR2GRAY)          #gray image\n",
    "imgBlur=cv2.GaussianBlur(imgGray,(7,7),0)  #adding the blur (need to add the kernel size which coould be a odd number)\n",
    "\n",
    "#adding the edge detector\n",
    "imgCanny=cv2.Canny(img,100,100)             #threshold values should be added based on your situation\n",
    "\n",
    "imgDilation=cv2.dilate(imgCanny,kernel,iterations=1)   #iterations value will be used to measure the thickness of the edge detected image\n",
    "\n",
    "imgEroded=cv2.erode(imgDilation,kernel,iterations=1)   #this is the opposite of the dilation\n",
    "\n",
    "cv2.imshow('Original',img)\n",
    "cv2.imshow('Gray image',imgGray)\n",
    "cv2.imshow('blur image',imgBlur)\n",
    "cv2.imshow('canny image',imgCanny) \n",
    "cv2.imshow('dilated image',imgDilation) \n",
    "cv2.imshow('eroded image',imgEroded) \n",
    "\n",
    "cv2.waitKey(0)"
   ]
  },
  {
   "cell_type": "code",
   "execution_count": null,
   "metadata": {},
   "outputs": [],
   "source": [
    "import cv2\n",
    "\n",
    "cap=cv2.VideoCapture(0)             #capturing the video from the webcam\n",
    "cap.set(3,640)\n",
    "cap.set(4,480)\n",
    "cap.set(10,100)\n",
    "\n",
    "while True:\n",
    "    success, img=cap.read()                         #video will be played as frame \n",
    "    cv2.imshow(\"Video\",img)\n",
    "    if cv2.waitKey(0) & 0xFF ==ord('q'):            #'q' will be used to destroy the window\n",
    "        break\n",
    "\n"
   ]
  },
  {
   "cell_type": "code",
   "execution_count": 4,
   "metadata": {},
   "outputs": [
    {
     "output_type": "stream",
     "name": "stdout",
     "text": [
      "(512, 512, 3)\n"
     ]
    },
    {
     "output_type": "execute_result",
     "data": {
      "text/plain": [
       "-1"
      ]
     },
     "metadata": {},
     "execution_count": 4
    }
   ],
   "source": [
    "import cv2\n",
    "import numpy as np \n",
    "\n",
    "img= cv2.imread('lena.jpg')\n",
    "print(img.shape)                     #prints the dimensions of the image\n",
    "\n",
    "imgResize=cv2.resize(img,(300,200))       #resizing the image to a prefered size (width comes first & then the height)\n",
    "\n",
    "imgCropped=img[0:200,200:500]       #cropping images (height comes first & then width)\n",
    "\n",
    "cv2.imshow(\"image\",img)\n",
    "cv2.imshow('resized image',imgResize)\n",
    "cv2.imshow('cropeed image', imgCropped)\n",
    "\n",
    "cv2.waitKey(0)"
   ]
  },
  {
   "cell_type": "code",
   "execution_count": 20,
   "metadata": {},
   "outputs": [
    {
     "output_type": "execute_result",
     "data": {
      "text/plain": [
       "-1"
      ]
     },
     "metadata": {},
     "execution_count": 20
    }
   ],
   "source": [
    "''' \n",
    " creating shapes & texts\n",
    "\n",
    "'''\n",
    "\n",
    "import cv2\n",
    "import numpy as np \n",
    "\n",
    "img=np.zeros((512,512,3),np.uint8)\n",
    "\n",
    "#print(img)\n",
    "#img[:]=255,255,0\n",
    "\n",
    "cv2.line(img,(0,0),(img.shape[1],img.shape[0]),(0,255,0),3)   #creating a line in the image\n",
    "\n",
    "cv2.rectangle(img,(0,0),(250,350),(0,255,255), 10)    #creating a rectangle filled (this can be filled with colour replacing the thicknes as cv2.FILLED)\n",
    " \n",
    "#define the center, radius , colour & thickness\n",
    "cv2.circle(img,(400,50),30,(255,255,0),5)     \n",
    "\n",
    "#putting text on the image\n",
    "cv2.putText(img,'NIMANTHA',(300,200),cv2.FONT_HERSHEY_COMPLEX,1,(250,0,0),5)  #image, text, origin, font, scale, colour & thickness in that order\n",
    " \n",
    "cv2.imshow('image',img)\n",
    "\n",
    "cv2.waitKey(0)\n",
    " \n"
   ]
  },
  {
   "cell_type": "code",
   "execution_count": null,
   "metadata": {},
   "outputs": [],
   "source": [
    "'''\n",
    "warp perspective  (bird eye view)\n",
    "\n",
    "'''"
   ]
  }
 ]
}